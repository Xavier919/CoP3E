{
 "cells": [
  {
   "cell_type": "markdown",
   "id": "ed382643",
   "metadata": {},
   "source": [
    "# CoP3E EDA"
   ]
  },
  {
   "cell_type": "markdown",
   "id": "bfbaa556",
   "metadata": {},
   "source": [
    "### Import packages"
   ]
  },
  {
   "cell_type": "code",
   "execution_count": 1,
   "id": "e769fb35",
   "metadata": {},
   "outputs": [],
   "source": [
    "#packages\n",
    "from modules.build_dataset import BuildDataset"
   ]
  },
  {
   "cell_type": "code",
   "execution_count": 2,
   "id": "b1c996ef",
   "metadata": {},
   "outputs": [],
   "source": [
    "from modules.build_dataset import *"
   ]
  },
  {
   "cell_type": "markdown",
   "id": "8fa1428a",
   "metadata": {},
   "source": [
    "### Project specific tools"
   ]
  },
  {
   "cell_type": "code",
   "execution_count": 3,
   "id": "22e79cf6",
   "metadata": {},
   "outputs": [],
   "source": [
    "#class\n",
    "bd = BuildDataset(\n",
    "    OP_tsv = 'modules/human-openprot-r1_6-refprots+altprots+isoforms-+uniprot2019_03_01.tsv', \n",
    "    Ens_trx = 'modules/mart_export95.txt',\n",
    "    trx_fasta = 'modules/ensembl95_trxps.fasta',\n",
    "    altprot_pep_any_unique = 'modules/altprot_pep_any_unique.pkl'\n",
    ")"
   ]
  },
  {
   "cell_type": "code",
   "execution_count": 4,
   "id": "dd38ff72",
   "metadata": {},
   "outputs": [
    {
     "data": {
      "application/vnd.jupyter.widget-view+json": {
       "model_id": "530b26bdd2b84f1d9b88c16c09787c2c",
       "version_major": 2,
       "version_minor": 0
      },
      "text/plain": [
       "0it [00:00, ?it/s]"
      ]
     },
     "metadata": {},
     "output_type": "display_data"
    }
   ],
   "source": [
    "ensembl_trx = bd.ensembl_trx()"
   ]
  },
  {
   "cell_type": "code",
   "execution_count": 5,
   "id": "daac1d3b",
   "metadata": {},
   "outputs": [],
   "source": [
    "pickle.dump(ensembl_trx, open('ensembl_trx.pkl', 'wb'))"
   ]
  },
  {
   "cell_type": "code",
   "execution_count": 6,
   "id": "ae6ec6cb",
   "metadata": {},
   "outputs": [],
   "source": [
    "ensembl_pseudogene = bd.ensembl_pseudogene(ensembl_trx)"
   ]
  },
  {
   "cell_type": "code",
   "execution_count": 7,
   "id": "a17497bf",
   "metadata": {},
   "outputs": [],
   "source": [
    "pickle.dump(ensembl_pseudogene, open('ensembl_pseudogene.pkl', 'wb'))"
   ]
  },
  {
   "cell_type": "code",
   "execution_count": null,
   "id": "bf753f3c",
   "metadata": {},
   "outputs": [],
   "source": []
  },
  {
   "cell_type": "markdown",
   "id": "fc5f570e",
   "metadata": {},
   "source": [
    "Dataset was built using data from OpenProt 1.6 and ensembl 95. \n",
    "Among 17 081 pseudogene transcripts: \n",
    "- 1730 with high evidence of translation. \n",
    "- 3908 with no ORF.\n",
    "- 11 443 with 1+ ORF, but lacking experimental evidence of translation."
   ]
  },
  {
   "cell_type": "code",
   "execution_count": 13,
   "id": "c784bd9f",
   "metadata": {},
   "outputs": [
    {
     "data": {
      "image/png": "[encoded data removed]",
      "text/plain": [
       "<Figure size 288x288 with 1 Axes>"
      ]
     },
     "metadata": {},
     "output_type": "display_data"
    }
   ],
   "source": [
    "bd.pc_datasets(ensembl_pseudogene, 4)"
   ]
  },
  {
   "cell_type": "code",
   "execution_count": null,
   "id": "92c56089",
   "metadata": {},
   "outputs": [],
   "source": []
  }
 ],
 "metadata": {
  "kernelspec": {
   "display_name": "Python 3 (ipykernel)",
   "language": "python",
   "name": "python3"
  },
  "language_info": {
   "codemirror_mode": {
    "name": "ipython",
    "version": 3
   },
   "file_extension": ".py",
   "mimetype": "text/x-python",
   "name": "python",
   "nbconvert_exporter": "python",
   "pygments_lexer": "ipython3",
   "version": "3.9.12"
  }
 },
 "nbformat": 4,
 "nbformat_minor": 5
}
